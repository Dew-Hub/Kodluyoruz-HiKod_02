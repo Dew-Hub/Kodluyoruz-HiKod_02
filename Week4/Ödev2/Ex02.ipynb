{
 "cells": [
  {
   "cell_type": "code",
   "execution_count": 1,
   "id": "cf2f81f6",
   "metadata": {},
   "outputs": [],
   "source": [
    "meyveler = ['elma', 'armut', 'cilek']"
   ]
  },
  {
   "cell_type": "code",
   "execution_count": 2,
   "id": "dbb2e06c",
   "metadata": {},
   "outputs": [],
   "source": [
    "yeni_list = []"
   ]
  },
  {
   "cell_type": "code",
   "execution_count": 3,
   "id": "192ae1db",
   "metadata": {},
   "outputs": [],
   "source": [
    "for meyve in meyveler:\n",
    "        yeni_list.append(meyve)"
   ]
  },
  {
   "cell_type": "code",
   "execution_count": 4,
   "id": "5881787a",
   "metadata": {},
   "outputs": [
    {
     "data": {
      "text/plain": [
       "['elma', 'armut', 'cilek']"
      ]
     },
     "execution_count": 4,
     "metadata": {},
     "output_type": "execute_result"
    }
   ],
   "source": [
    "yeni_list"
   ]
  }
 ],
 "metadata": {
  "kernelspec": {
   "display_name": "Python 3 (ipykernel)",
   "language": "python",
   "name": "python3"
  },
  "language_info": {
   "codemirror_mode": {
    "name": "ipython",
    "version": 3
   },
   "file_extension": ".py",
   "mimetype": "text/x-python",
   "name": "python",
   "nbconvert_exporter": "python",
   "pygments_lexer": "ipython3",
   "version": "3.11.4"
  }
 },
 "nbformat": 4,
 "nbformat_minor": 5
}
