{
 "cells": [
  {
   "cell_type": "code",
   "execution_count": 2,
   "id": "37f3cea1",
   "metadata": {},
   "outputs": [
    {
     "name": "stdout",
     "output_type": "stream",
     "text": [
      "Pi değerini giriniz:3.1443\n"
     ]
    }
   ],
   "source": [
    "pi = float(input(\"Pi değerini giriniz:\"))"
   ]
  },
  {
   "cell_type": "code",
   "execution_count": 4,
   "id": "2ea90ec3",
   "metadata": {},
   "outputs": [
    {
     "name": "stdout",
     "output_type": "stream",
     "text": [
      "Yarı çap değerini giriniz:2.3\n"
     ]
    }
   ],
   "source": [
    "r = float(input(\"Yarı çap değerini giriniz:\"))"
   ]
  },
  {
   "cell_type": "code",
   "execution_count": 5,
   "id": "a0d3c3e7",
   "metadata": {},
   "outputs": [],
   "source": [
    "sonuc = pi * (r*r)"
   ]
  },
  {
   "cell_type": "code",
   "execution_count": 6,
   "id": "44526972",
   "metadata": {},
   "outputs": [
    {
     "name": "stdout",
     "output_type": "stream",
     "text": [
      "16.633346999999997\n"
     ]
    }
   ],
   "source": [
    "print(sonuc)"
   ]
  }
 ],
 "metadata": {
  "kernelspec": {
   "display_name": "Python 3 (ipykernel)",
   "language": "python",
   "name": "python3"
  },
  "language_info": {
   "codemirror_mode": {
    "name": "ipython",
    "version": 3
   },
   "file_extension": ".py",
   "mimetype": "text/x-python",
   "name": "python",
   "nbconvert_exporter": "python",
   "pygments_lexer": "ipython3",
   "version": "3.11.4"
  }
 },
 "nbformat": 4,
 "nbformat_minor": 5
}
