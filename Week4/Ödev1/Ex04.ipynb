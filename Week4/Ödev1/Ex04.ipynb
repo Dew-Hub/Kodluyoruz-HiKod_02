{
 "cells": [
  {
   "cell_type": "code",
   "execution_count": 1,
   "id": "753ec9e7",
   "metadata": {},
   "outputs": [
    {
     "name": "stdout",
     "output_type": "stream",
     "text": [
      "Dogum yilini giriniz :2000\n",
      "İsminizi giriniz :Burak\n",
      "Burak emekliliğine 42 yıl kaldı.\n"
     ]
    }
   ],
   "source": [
    "def isim():\n",
    "    name = input(\"İsminizi giriniz :\")\n",
    "    return name\n",
    "def dogum(yil):\n",
    "    sonuc = 2023 - yil\n",
    "    return sonuc\n",
    "\n",
    "def emekli(yil,isim):\n",
    "    if(yil > 65):\n",
    "        print(\"Emekli olabilirsiniz.\")\n",
    "    else:\n",
    "        emk = 65 - sonuc\n",
    "        print(\"{} emekliliğine {} yıl kaldı.\".format(isim,emk))\n",
    "\n",
    "sayi = int(input(\"Dogum yilini giriniz :\"))\n",
    "sonuc = dogum(sayi)\n",
    "name = isim()\n",
    "emek = emekli(sonuc,name)"
   ]
  }
 ],
 "metadata": {
  "kernelspec": {
   "display_name": "Python 3 (ipykernel)",
   "language": "python",
   "name": "python3"
  },
  "language_info": {
   "codemirror_mode": {
    "name": "ipython",
    "version": 3
   },
   "file_extension": ".py",
   "mimetype": "text/x-python",
   "name": "python",
   "nbconvert_exporter": "python",
   "pygments_lexer": "ipython3",
   "version": "3.11.4"
  }
 },
 "nbformat": 4,
 "nbformat_minor": 5
}
