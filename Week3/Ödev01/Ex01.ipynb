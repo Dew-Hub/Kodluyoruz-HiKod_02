{
 "cells": [
  {
   "cell_type": "code",
   "execution_count": 1,
   "id": "9f2cde3d",
   "metadata": {},
   "outputs": [
    {
     "name": "stdout",
     "output_type": "stream",
     "text": [
      "5.0\n"
     ]
    }
   ],
   "source": [
    "x = 5\n",
    "xf = float(x)\n",
    "print(xf)"
   ]
  },
  {
   "cell_type": "code",
   "execution_count": 2,
   "id": "0fbd12e9",
   "metadata": {},
   "outputs": [
    {
     "name": "stdout",
     "output_type": "stream",
     "text": [
      "6\n",
      "<class 'int'>\n"
     ]
    }
   ],
   "source": [
    "y = 6.6\n",
    "yint = int(y)\n",
    "print(yint)\n",
    "print(type(yint))"
   ]
  },
  {
   "cell_type": "code",
   "execution_count": 3,
   "id": "015eec3d",
   "metadata": {},
   "outputs": [
    {
     "name": "stdout",
     "output_type": "stream",
     "text": [
      "15\n",
      "<class 'int'>\n"
     ]
    }
   ],
   "source": [
    "z = \"15\"\n",
    "zint = int(z)\n",
    "print(zint)\n",
    "print(type(zint))"
   ]
  },
  {
   "cell_type": "code",
   "execution_count": 4,
   "id": "9b04e467",
   "metadata": {},
   "outputs": [
    {
     "name": "stdout",
     "output_type": "stream",
     "text": [
      "51.0\n",
      "<class 'float'>\n"
     ]
    }
   ],
   "source": [
    "a = \"51\"\n",
    "af = float(a)\n",
    "print(af)\n",
    "print(type(af))"
   ]
  },
  {
   "cell_type": "code",
   "execution_count": 5,
   "id": "bb06e875",
   "metadata": {},
   "outputs": [
    {
     "name": "stdout",
     "output_type": "stream",
     "text": [
      "61\n",
      "<class 'int'>\n"
     ]
    }
   ],
   "source": [
    "b = \"61.4\"\n",
    "bint = int(float(b))\n",
    "print(bint)\n",
    "print(type(bint))"
   ]
  },
  {
   "cell_type": "code",
   "execution_count": null,
   "id": "280605dd",
   "metadata": {},
   "outputs": [],
   "source": []
  }
 ],
 "metadata": {
  "kernelspec": {
   "display_name": "Python 3 (ipykernel)",
   "language": "python",
   "name": "python3"
  },
  "language_info": {
   "codemirror_mode": {
    "name": "ipython",
    "version": 3
   },
   "file_extension": ".py",
   "mimetype": "text/x-python",
   "name": "python",
   "nbconvert_exporter": "python",
   "pygments_lexer": "ipython3",
   "version": "3.11.4"
  }
 },
 "nbformat": 4,
 "nbformat_minor": 5
}
