{
 "cells": [
  {
   "cell_type": "code",
   "execution_count": 1,
   "id": "09704771",
   "metadata": {},
   "outputs": [],
   "source": [
    "burak = 23\n",
    "eren = 19\n",
    "şamil = 13"
   ]
  },
  {
   "cell_type": "code",
   "execution_count": 4,
   "id": "be5381d8",
   "metadata": {},
   "outputs": [
    {
     "name": "stdout",
     "output_type": "stream",
     "text": [
      "En yaşlı olan kişi Burak.\n"
     ]
    }
   ],
   "source": [
    "if burak > eren and burak > şamil:\n",
    "    print(\"En yaşlı olan kişi Burak.\")\n",
    "elif eren > burak and eren > şamil:\n",
    "    print(\"En yaşlı olan kişi Eren.\")\n",
    "elif şamil > burak and şamil > eren:\n",
    "    print(\"En yaşlı olan kişi Şamil.\")\n",
    "else:\n",
    "    print(\"Yaşlar eşit veya geçerli bir durum yok.\")"
   ]
  },
  {
   "cell_type": "code",
   "execution_count": null,
   "id": "d5131b28",
   "metadata": {},
   "outputs": [],
   "source": []
  }
 ],
 "metadata": {
  "kernelspec": {
   "display_name": "Python 3 (ipykernel)",
   "language": "python",
   "name": "python3"
  },
  "language_info": {
   "codemirror_mode": {
    "name": "ipython",
    "version": 3
   },
   "file_extension": ".py",
   "mimetype": "text/x-python",
   "name": "python",
   "nbconvert_exporter": "python",
   "pygments_lexer": "ipython3",
   "version": "3.11.4"
  }
 },
 "nbformat": 4,
 "nbformat_minor": 5
}
