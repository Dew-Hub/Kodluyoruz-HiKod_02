{
 "cells": [
  {
   "cell_type": "code",
   "execution_count": 3,
   "id": "c3aa5d6d",
   "metadata": {},
   "outputs": [
    {
     "name": "stdout",
     "output_type": "stream",
     "text": [
      "İsminizi Giriniz :Burak\n",
      "Yaşınızı Giriniz :23\n",
      "Sehirinizi Giriniz :Kocaeli\n",
      "Mesleğinizi Giriniz :Eğitmen\n",
      "Selam, Burak 23 yaşındasın ve Kocaeli şehrinde yaşıyorsun, mesleğin ise Eğitmen .\n"
     ]
    }
   ],
   "source": [
    "isim = input(\"İsminizi Giriniz :\")\n",
    "yas = input(\"Yaşınızı Giriniz :\")\n",
    "sehir = input(\"Sehirinizi Giriniz :\")\n",
    "meslek = input(\"Mesleğinizi Giriniz :\")\n",
    "print(\"Selam,\",isim,yas, \"yaşındasın ve\",sehir,\"şehrinde yaşıyorsun, mesleğin ise\",meslek,\".\")"
   ]
  },
  {
   "cell_type": "code",
   "execution_count": null,
   "id": "14f5dd83",
   "metadata": {},
   "outputs": [],
   "source": []
  }
 ],
 "metadata": {
  "kernelspec": {
   "display_name": "Python 3 (ipykernel)",
   "language": "python",
   "name": "python3"
  },
  "language_info": {
   "codemirror_mode": {
    "name": "ipython",
    "version": 3
   },
   "file_extension": ".py",
   "mimetype": "text/x-python",
   "name": "python",
   "nbconvert_exporter": "python",
   "pygments_lexer": "ipython3",
   "version": "3.11.4"
  }
 },
 "nbformat": 4,
 "nbformat_minor": 5
}
