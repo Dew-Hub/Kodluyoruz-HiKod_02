{
 "cells": [
  {
   "cell_type": "code",
   "execution_count": 1,
   "id": "c038f133",
   "metadata": {},
   "outputs": [
    {
     "name": "stdout",
     "output_type": "stream",
     "text": [
      "Kullanıcı Adı Giriniz: Burak\n",
      "Şifre Giriniz (5-10 karakter): 2535252535235\n",
      "Lütfen girdiğiniz şifre 5 ile 10 karakter arasında olsun!\n",
      "Şifre Giriniz (5-10 karakter): 325235\n",
      "Hesabınız başarıyla oluşturuldu.\n"
     ]
    }
   ],
   "source": [
    "id = input(\"Kullanıcı Adı Giriniz: \")\n",
    "while True:\n",
    "    pw = input(\"Şifre Giriniz (5-10 karakter): \")\n",
    "    if 5 <= len(pw) <= 10:\n",
    "        print(\"Hesabınız başarıyla oluşturuldu.\")\n",
    "        break\n",
    "    else:\n",
    "        print(\"Lütfen girdiğiniz şifre 5 ile 10 karakter arasında olsun!\")"
   ]
  },
  {
   "cell_type": "code",
   "execution_count": null,
   "id": "8fee3920",
   "metadata": {},
   "outputs": [],
   "source": []
  }
 ],
 "metadata": {
  "kernelspec": {
   "display_name": "Python 3 (ipykernel)",
   "language": "python",
   "name": "python3"
  },
  "language_info": {
   "codemirror_mode": {
    "name": "ipython",
    "version": 3
   },
   "file_extension": ".py",
   "mimetype": "text/x-python",
   "name": "python",
   "nbconvert_exporter": "python",
   "pygments_lexer": "ipython3",
   "version": "3.11.4"
  }
 },
 "nbformat": 4,
 "nbformat_minor": 5
}
